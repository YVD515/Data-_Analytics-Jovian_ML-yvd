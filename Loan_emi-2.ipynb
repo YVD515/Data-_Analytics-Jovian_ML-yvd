{
 "cells": [
  {
   "cell_type": "code",
   "execution_count": 21,
   "id": "82112401-3f13-4fea-bf38-125a6a8ead9e",
   "metadata": {},
   "outputs": [
    {
     "name": "stdout",
     "output_type": "stream",
     "text": [
      "Shaun has to pay 15560 every month\n"
     ]
    }
   ],
   "source": [
    "#QUESTION\n",
    "'''Shaun is currently paying back a home loan for a house he took a few years ago. The Cost of the house was $8,00,000. \n",
    "    1. he paid a down payment of 25% of the principal\n",
    "    2. 6 year loan of 7% interest per annum(compounded monthly) for rest of the principal\n",
    "    3. Buys a car worth of $60,000 \n",
    "'''\n",
    "\n",
    "def loan_emi(amount, interest, duration, dp =0):\n",
    "    amount = amount - dp\n",
    "    try:\n",
    "        emi = (amount*interest*((1+interest)**duration))/(((1+interest)**duration)-1)\n",
    "    except ZeroDivisionError:\n",
    "        emi = amount/duration\n",
    "        \n",
    "    return emi\n",
    "\n",
    "house = loan_emi(800000, .07/12, 6*12, .25*800000)\n",
    "car = loan_emi(60000, .12/12, 1*12)\n",
    "monthly_payment = car+house\n",
    "print(f\"Shaun has to pay {round(monthly_payment)} every month\")\n"
   ]
  },
  {
   "cell_type": "code",
   "execution_count": null,
   "id": "597eac27-8386-4551-a8ff-c926fc63b4f8",
   "metadata": {},
   "outputs": [],
   "source": []
  }
 ],
 "metadata": {
  "kernelspec": {
   "display_name": "Python 3 (ipykernel)",
   "language": "python",
   "name": "python3"
  },
  "language_info": {
   "codemirror_mode": {
    "name": "ipython",
    "version": 3
   },
   "file_extension": ".py",
   "mimetype": "text/x-python",
   "name": "python",
   "nbconvert_exporter": "python",
   "pygments_lexer": "ipython3",
   "version": "3.13.4"
  }
 },
 "nbformat": 4,
 "nbformat_minor": 5
}
