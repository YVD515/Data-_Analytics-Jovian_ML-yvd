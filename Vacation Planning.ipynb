{
 "cells": [
  {
   "cell_type": "code",
   "execution_count": 7,
   "id": "12c40e57-d402-4a9a-9a63-940047073d5b",
   "metadata": {},
   "outputs": [
    {
     "data": {
      "text/plain": [
       "'Mumbai'"
      ]
     },
     "execution_count": 7,
     "metadata": {},
     "output_type": "execute_result"
    }
   ],
   "source": [
    "def one_week(cities, duration):\n",
    "\n",
    "    expense = {}\n",
    "    \n",
    "    for i in cities:\n",
    "        expense[i] = rf[i] + hpd[i]*duration + (wcr[i]/7)*duration\n",
    "    min_ = min(expense, key=expense.get)\n",
    "    return min_\n",
    "    \n",
    "\n",
    "cities = ['Paris', 'London', 'Dubai', 'Mumbai']\n",
    "rf = {\n",
    "    'Paris': 200,\n",
    "    'London': 250, \n",
    "    'Dubai': 370, \n",
    "    'Mumbai': 450 }\n",
    "\n",
    "hpd = {\n",
    "    'Paris': 20, \n",
    "    'London': 30, \n",
    "    'Dubai': 15, \n",
    "    'Mumbai': 10 }\n",
    "\n",
    "wcr = {\n",
    "    'Paris': 300,\n",
    "    'London': 120, \n",
    "    'Dubai': 80,\n",
    "    'Mumbai': 70 }\n",
    "one_week(cities , 14)\n",
    "\n",
    "\n",
    "# 3. which city's duration is most in $1000 and vice versa\n",
    "# 4. what to do if the amount for the trip changes like 600, 1400 or even 2000.\n"
   ]
  },
  {
   "cell_type": "code",
   "execution_count": null,
   "id": "55c46e8a-253f-496a-88b9-5e115310360b",
   "metadata": {},
   "outputs": [],
   "source": []
  }
 ],
 "metadata": {
  "kernelspec": {
   "display_name": "Python 3 (ipykernel)",
   "language": "python",
   "name": "python3"
  },
  "language_info": {
   "codemirror_mode": {
    "name": "ipython",
    "version": 3
   },
   "file_extension": ".py",
   "mimetype": "text/x-python",
   "name": "python",
   "nbconvert_exporter": "python",
   "pygments_lexer": "ipython3",
   "version": "3.13.3"
  }
 },
 "nbformat": 4,
 "nbformat_minor": 5
}
